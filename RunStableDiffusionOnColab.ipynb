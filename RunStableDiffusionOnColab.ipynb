{
  "cells": [
    {
      "cell_type": "markdown",
      "metadata": {
        "id": "view-in-github",
        "colab_type": "text"
      },
      "source": [
        "<a href=\"https://colab.research.google.com/github/AyushDhimann/Stable-Diffusion-Linux/blob/main/RunStableDiffusionOnColab.ipynb\" target=\"_parent\"><img src=\"https://colab.research.google.com/assets/colab-badge.svg\" alt=\"Open In Colab\"/></a>"
      ]
    },
    {
      "cell_type": "code",
      "source": [
        "#Prerequisite\n",
        "\n",
        "!sudo apt install libtcmalloc-minimal4 libegl1 libgl1-mesa-glx -y"
      ],
      "metadata": {
        "id": "6TkvPT__ypBR"
      },
      "id": "6TkvPT__ypBR",
      "execution_count": null,
      "outputs": []
    },
    {
      "cell_type": "code",
      "execution_count": null,
      "id": "0a856b6c",
      "metadata": {
        "id": "0a856b6c"
      },
      "outputs": [],
      "source": [
        "# Current working directory\n",
        "\n",
        "\n",
        "import os\n",
        "import requests\n",
        "from urllib.parse import urlparse, parse_qs, unquote\n",
        "import re\n",
        "%pwd"
      ]
    },
    {
      "cell_type": "code",
      "execution_count": null,
      "id": "4a2b9f6e",
      "metadata": {
        "id": "4a2b9f6e"
      },
      "outputs": [],
      "source": [
        "# Installation\n",
        "\n",
        "\n",
        "%mkdir StableDiffusionHere\n",
        "%cd {os.getcwd()}/StableDiffusionHere\n",
        "\n",
        "!git clone https://github.com/AUTOMATIC1111/stable-diffusion-webui\n",
        "%cd {os.getcwd()}/stable-diffusion-webui"
      ]
    },
    {
      "cell_type": "code",
      "execution_count": null,
      "id": "baf8b891",
      "metadata": {
        "id": "baf8b891"
      },
      "outputs": [],
      "source": [
        "# Download Models\n",
        "\n",
        "MODEL_LINK = \"\"  # Add the model link here"
      ]
    },
    {
      "cell_type": "code",
      "execution_count": null,
      "id": "35b06e3d",
      "metadata": {
        "id": "35b06e3d"
      },
      "outputs": [],
      "source": [
        "# Downloader\n",
        "\n",
        "def get_info(url):\n",
        "    parsed_url = urlparse(url)\n",
        "    src = 'civitai' if parsed_url.netloc == 'civitai.com' else 'huggingface' if parsed_url.netloc == 'huggingface.co' else 'others'\n",
        "    response = requests.get(url, allow_redirects=False)\n",
        "    redirected_url = response.headers.get(\"Location\", \"\")\n",
        "    quer = parse_qs(urlparse(redirected_url).query) if \"response-content-disposition\" in (quer := parse_qs(urlparse(redirected_url).query)) else {}\n",
        "    filenm = unquote(quer.get(\"response-content-disposition\", [\"\"])[0].split(\"=\", 1)[1].strip()).replace(\"\\\"\", \"\") if quer and quer.get(\"response-content-disposition\") else \"\"\n",
        "    return src, filenm\n",
        "\n",
        "src, filename = get_info(MODEL_LINK)"
      ]
    },
    {
      "cell_type": "code",
      "execution_count": null,
      "id": "7f26f121",
      "metadata": {
        "id": "7f26f121"
      },
      "outputs": [],
      "source": [
        "#Download Stable-Diffusion Models\n",
        "\n",
        "!wget -O \"{os.getcwd()}/models/Stable-diffusion/{filename}\" \"{MODEL_LINK}\""
      ]
    },
    {
      "cell_type": "code",
      "execution_count": null,
      "id": "d93cd921",
      "metadata": {
        "id": "d93cd921"
      },
      "outputs": [],
      "source": [
        "#Download other Models\n",
        "\n",
        "\n",
        "model_dir = \"\" # Add the chosen model type here\n",
        "\n",
        "\n",
        "if not os.path.exists('{os.getcwd()}/models/{model_dir}'):\n",
        "    print(f\"Directory '{model_dir}' not found.\")\n",
        "    print(\"List of total directories:\")\n",
        "    %ls {os.getcwd()}/models/\n",
        "else:\n",
        "    # If the directory exists, proceed with wget\n",
        "    !wget -O \"{os.getcwd()}/models/{model_dir}/{filename}\" \"{MODEL_LINK}"
      ]
    },
    {
      "cell_type": "code",
      "execution_count": null,
      "id": "8e4a96c3",
      "metadata": {
        "id": "8e4a96c3"
      },
      "outputs": [],
      "source": [
        "#Minor File Changes(removes the root user restriction and disables the need of venv)\n",
        "\n",
        "for _ in range(2):\n",
        "    file_path = f\"{os.getcwd()}/webui.sh\"\n",
        "    with open(file_path, \"r+\") as file:\n",
        "        replacements = {'use_venv': ('1', '0'), 'can_run_as_root': ('0', '1')}\n",
        "        content = re.sub('|'.join([f'{key}={old}' for key, (old, new) in replacements.items()]), lambda m, replacements=replacements: f'{m.group(0).split(\"=\")[0]}={replacements[m.group(0).split(\"=\")[0]][1]}', file.read(), count=1)\n",
        "        file.seek(0)\n",
        "        file.write(content)\n",
        "        file.truncate()"
      ]
    },
    {
      "cell_type": "code",
      "execution_count": null,
      "id": "66d87e56",
      "metadata": {
        "id": "66d87e56"
      },
      "outputs": [],
      "source": [
        "#Run WebUI (only CPU)[Username = s : Password = d]\n",
        "\n",
        "! ./webui.sh --share --gradio-auth s:d --administrator --no-half --use-cpu all --opt-sdp-no-mem-attention --no-half-vae --opt-channelslast --skip-torch-cuda-test"
      ]
    },
    {
      "cell_type": "code",
      "execution_count": null,
      "id": "daa8c47a",
      "metadata": {
        "id": "daa8c47a"
      },
      "outputs": [],
      "source": [
        "#Run WebUI (with CPU+GPU)[Username = s : Password = d]\n",
        "\n",
        "! ./webui.sh --share --gradio-auth s:d --no-half --opt-sdp-no-mem-attention --no-half-vae --opt-channelslast --xformers"
      ]
    }
  ],
  "metadata": {
    "kernelspec": {
      "display_name": "Python 3",
      "name": "python3"
    },
    "language_info": {
      "codemirror_mode": {
        "name": "ipython",
        "version": 3
      },
      "file_extension": ".py",
      "mimetype": "text/x-python",
      "name": "python",
      "nbconvert_exporter": "python",
      "pygments_lexer": "ipython3",
      "version": "3.10.12"
    },
    "colab": {
      "provenance": [],
      "gpuType": "T4",
      "include_colab_link": true
    },
    "accelerator": "GPU"
  },
  "nbformat": 4,
  "nbformat_minor": 5
}